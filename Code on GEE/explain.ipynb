{
 "cells": [
  {
   "cell_type": "markdown",
   "metadata": {},
   "source": [
    "# Giải thích code trên GEE"
   ]
  },
  {
   "cell_type": "markdown",
   "metadata": {},
   "source": [
    "### - Đầu tiên, tạo 1 Feature Collection và Lọc Vùng Quan Tâm (ROI)\n",
    "### Trong đó bao gồm: ee.FeatureCollection dùng để tạo 1 collection đối tượng từ data và hàm .filter để lọc ra đối tượng chỉ chứa dữ liệu là India\n",
    "\n",
    "![](code_image/collection.png)\n",
    "\n",
    "### - Tiếp theo, hiển thị vùng roi lên bản đồ bằng thư viện Map\n",
    "\n",
    "![](code_image/roi.png)\n",
    "\n",
    "### - Lấy dữ liệu độ ẩm đất từ ảnh vệ tinh bằng thư viện ImageCollection và tạo dataset soilMoisture\n",
    "\n",
    "![](code_image/dataset.png)\n",
    "\n",
    "### - Đặt biểu đồ màu\n",
    "\n",
    "![](code_image/color.png)\n",
    "\n",
    "### - Hiển thị lớp độ ẩm đất trên bản đồ\n",
    "\n",
    "![](code_image/show.png)\n",
    "\n",
    "### - Đặt trung tâm và xuất bản đồ lên GG Drive\n",
    "\n",
    "![](code_image/center.png)\n",
    "![](code_image/export.png)"
   ]
  }
 ],
 "metadata": {
  "language_info": {
   "name": "python"
  }
 },
 "nbformat": 4,
 "nbformat_minor": 2
}
