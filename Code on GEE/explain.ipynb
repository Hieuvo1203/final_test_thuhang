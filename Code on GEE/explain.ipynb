{
 "cells": [
  {
   "cell_type": "markdown",
   "metadata": {},
   "source": [
    "# Giải thích code trên GEE"
   ]
  },
  {
   "cell_type": "markdown",
   "metadata": {},
   "source": [
    "### - Đầu tiên, tạo 1 Feature Collection và Lọc Vùng Quan Tâm (ROI)\n",
    "### Trong đó bao gồm: ee.FeatureCollection dùng để tạo 1 collection đối tượng từ data và hàm .filter để lọc ra đối tượng chỉ chứa dữ liệu là India\n",
    "### + Sử dụng ee.FeatureCollection(\"USDOS/LSIB_SIMPLE/2017\") để tải bộ dữ liệu ranh giới quốc gia từ Earth Engine.\n",
    "### + Lọc chỉ giữ lại đối tượng của Ấn Độ ('country_na' là tên quốc gia).\n",
    "\n",
    "![](code_image/collection.png)\n",
    "\n",
    "### - Tiếp theo, hiển thị vùng roi lên bản đồ bằng thư viện Map\n",
    "### + Sử dụng Map.addLayer(roi, {}, 'India', false) để thêm lớp đối tượng (ranh giới của Ấn Độ) lên bản đồ, nhưng không hiển thị ngay lập tức.\n",
    "### + Map.centerObject(roi) để làm cho vùng quan tâm (roi) nằm ở trung tâm của bản đồ.\n",
    "\n",
    "![](code_image/roi.png)\n",
    "\n",
    "### - Lấy dữ liệu độ ẩm đất từ ảnh vệ tinh bằng thư viện ImageCollection và tạo dataset soilMoisture\n",
    "\n",
    "### + Sử dụng ee.ImageCollection('NASA_USDA/HSL/SMAP10KM_soil_moisture') để tải tập hợp hình ảnh độ ẩm đất từ dự án NASA_USDA/HSL/SMAP10KM_soil_moisture.\n",
    "### +  ee.Filter.date('2022-01-01', '2022-01-31') và filterBounds(roi) để lọc dữ liệu từ ngày 1/1/2022 đến 31/1/2022 và chỉ giữ lại dữ liệu trong vùng quan tâm (Ấn Độ).\n",
    "### + .select('ssm').median() để chọn band 'ssm' và tính giá trị trung bình trên tất cả các hình ảnh trong khoảng thời gian và vùng quan tâm đã chọn.\n",
    "\n",
    "![](code_image/dataset.png)\n",
    "\n",
    "### - Đặt biểu đồ màu\n",
    "### + soilMoistureVis là một đối tượng chứa cấu hình hiển thị, bao gồm giá trị tối thiểu, tối đa, và bảng màu.\n",
    "### + Map.addLayer để thêm lớp hiển thị độ ẩm đất toàn cầu và lớp độ ẩm đất Ấn Độ lên bản đồ.\n",
    "\n",
    "![](code_image/color.png)\n",
    "\n",
    "### - Hiển thị lớp độ ẩm đất trên bản đồ\n",
    "\n",
    "![](code_image/show.png)\n",
    "\n",
    "### - Đặt trung tâm và xuất bản đồ lên GG Drive\n",
    "### Map.centerObject(roi, 6) để làm cho vùng quan tâm nằm ở trung tâm của bản đồ với mức zoom là 6.\n",
    "![](code_image/center.png)\n",
    "### Xuất lên Drive\n",
    "![](code_image/export.png)"
   ]
  }
 ],
 "metadata": {
  "language_info": {
   "name": "python"
  }
 },
 "nbformat": 4,
 "nbformat_minor": 2
}
