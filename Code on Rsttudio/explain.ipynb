{
 "cells": [
  {
   "cell_type": "markdown",
   "metadata": {},
   "source": [
    "# Giải thích code trên nền tảng R"
   ]
  },
  {
   "cell_type": "markdown",
   "metadata": {},
   "source": [
    "![Gọi các thư viện cần thiết](code_image/load_library.png)"
   ]
  },
  {
   "cell_type": "markdown",
   "metadata": {},
   "source": [
    "![](code_image/color_pack.png)"
   ]
  },
  {
   "cell_type": "markdown",
   "metadata": {},
   "source": [
    "### - Đầu tiên, load các thư viện cần thiết để sử dụng\n",
    "### Trong đó, \"dplyr\" được sử dụng để xử lý dữ liệu dưới dạng dataframe, \"raster\" được sử dụng để xử lý dữ liệu không gian (raster), \"ncdf4\" được sử dụng để đọc các tập tin NetCDF, \"viridis\" được sử dụng để dùng bảng màu với 100 mức màu\n",
    "\n",
    "### - Sau đó, tôi cho 1 biến mặc định color"
   ]
  },
  {
   "cell_type": "markdown",
   "metadata": {},
   "source": [
    "### - Tiếp theo, đặt các biến cần sử dụng như folder_path_Jan và all_data_Jan (đang được dùng để vẽ tháng 1)"
   ]
  },
  {
   "cell_type": "markdown",
   "metadata": {},
   "source": [
    "![](code_image/read_data.png)"
   ]
  },
  {
   "cell_type": "markdown",
   "metadata": {},
   "source": [
    "### - Đọc dữ liệu từ file đuôi \".nc\" gồm:\n",
    "### + Sử dụng một vòng lặp để duyệt qua từng ngày trong tháng và đọc dữ liệu từ tập tin NetCDF tương ứng.\n",
    "### + Dữ liệu được đọc bao gồm kinh độ (longitude_Jan), vĩ độ (latitude_Jan), và độ ẩm đất hàng ngày (SM_daily_Jan).\n",
    "### + Mỗi ngày, dữ liệu được thêm vào DataFrame all_data_Jan."
   ]
  },
  {
   "cell_type": "markdown",
   "metadata": {},
   "source": [
    "![](code_image/coordinate.png)"
   ]
  },
  {
   "cell_type": "markdown",
   "metadata": {},
   "source": [
    "![](code_image/limited.png)"
   ]
  },
  {
   "cell_type": "markdown",
   "metadata": {},
   "source": [
    "### - Đặt giới hạn tọa độ cho Ấn Độ"
   ]
  },
  {
   "cell_type": "markdown",
   "metadata": {},
   "source": [
    "![](code_image/raster.png)"
   ]
  },
  {
   "cell_type": "markdown",
   "metadata": {},
   "source": [
    "### - Xử lý các dữ liệu thiếu trong data và tạo đối tượng raster"
   ]
  },
  {
   "cell_type": "markdown",
   "metadata": {},
   "source": [
    "![](code_image/show.png)"
   ]
  },
  {
   "cell_type": "markdown",
   "metadata": {},
   "source": [
    "### - Hiển thị bản đồ raster"
   ]
  }
 ],
 "metadata": {
  "language_info": {
   "name": "python"
  }
 },
 "nbformat": 4,
 "nbformat_minor": 2
}
